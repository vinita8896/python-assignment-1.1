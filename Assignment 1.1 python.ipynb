{
 "cells": [
  {
   "cell_type": "markdown",
   "id": "8f2a438d",
   "metadata": {},
   "source": [
    "#1. Differences between mutable and immutable data types in Python."
   ]
  },
  {
   "cell_type": "markdown",
   "id": "5cf8aa00",
   "metadata": {},
   "source": [
    "1. Mutable Data Types:\n",
    "Contents Can Be Changed: Mutable data types allow you to modify their elements or properties after they are created.\n",
    "Examples: Lists (list), Dictionaries (dict), Sets (set), Byte Arrays (bytearray).\n",
    "\n",
    "2. Immutable Data Types:\n",
    "Contents Cannot Be Changed: Immutable data types do not allow you to modify their elements or properties after they are created. Any operation that appears to modify an immutable data type actually creates a new object with the modified value.\n",
    "Examples: Integers (int), Floating-Point Numbers (float), Strings (str), Tuples (tuple), Booleans (bool), Frozensets (frozenset), Complex Numbers (complex)."
   ]
  },
  {
   "cell_type": "markdown",
   "id": "d9a041be",
   "metadata": {},
   "source": [
    "#2. what is type conversion in python?"
   ]
  },
  {
   "cell_type": "markdown",
   "id": "67d8627b",
   "metadata": {},
   "source": [
    "Python defines type conversion functions to directly convert one data type to another which is useful in day-to-day and competitive programming.There are two types of Type Conversion in Python:\n",
    "1.Implicit Type Conversion in Python--->\n",
    "In Implicit type conversion of data types in Python, the Python interpreter automatically converts one data type to another without any user involvement.\n",
    "2.Explicit Type Conversion in Python---->\n",
    "In Explicit Type Conversion in Python, the data type is manually changed by the user as per their requirement. With explicit type conversion, there is a risk of data loss since we are forcing an expression to be changed in some specific data type"
   ]
  },
  {
   "cell_type": "markdown",
   "id": "6cd41299",
   "metadata": {},
   "source": [
    "#3. What is slicing in Python?"
   ]
  },
  {
   "cell_type": "markdown",
   "id": "61f7bdf2",
   "metadata": {},
   "source": [
    "Slicing is used to access parts of sequences like lists, tuples, and strings. The syntax of slicing is-[start:end:step]. The step can be omitted as well. When we write [start:end] this returns all the elements of the sequence from the start (inclusive) till the end-1 element. If the start or end element is negative i, it means the ith element from the end. The step indicates the jump or how many elements have to be skipped. Eg. if there is a list- [1,2,3,4,5,6,7,8]. Then [-1:2:2] will return elements starting from the last element till the third element by printing every second element.i.e. [8,6,4]."
   ]
  },
  {
   "cell_type": "markdown",
   "id": "428af019",
   "metadata": {},
   "source": [
    "#4. Write a Python program that accepts a word from the user and reverse it"
   ]
  },
  {
   "cell_type": "code",
   "execution_count": 2,
   "id": "00ce1c3a",
   "metadata": {},
   "outputs": [
    {
     "name": "stdout",
     "output_type": "stream",
     "text": [
      "Input a word to reverse:python\n",
      "nohtyp\n"
     ]
    }
   ],
   "source": [
    "word = input(\"Input a word to reverse:\")\n",
    "\n",
    "for char in range(len(word) - 1, -1, -1):\n",
    "  print(word[char], end=\"\")\n",
    "print(\"\")"
   ]
  },
  {
   "cell_type": "markdown",
   "id": "a4ddbde2",
   "metadata": {},
   "source": [
    "#5. What are operators in Python, and how are they categorized?"
   ]
  },
  {
   "cell_type": "markdown",
   "id": "b5b8b811",
   "metadata": {},
   "source": [
    "Operators are required to perform various operations on data. They are special symbols that are required to carry out arithmetic and logical operations. The values on which the operator operates are called operands.\n",
    "So, if we say 10/5=2\n",
    "Here 7’ is the operator that performs division and 10 and 5 are the operands. Python has the following operators defined for various operations:\n",
    "\n",
    "Arithmetic Operators\n",
    "Relational Operators\n",
    "Logical/Boolean Operators\n",
    "Assignment Operators\n",
    "Bitwise Operators\n",
    "Membership Operators\n",
    "Identity Operators"
   ]
  },
  {
   "cell_type": "markdown",
   "id": "4209d45a",
   "metadata": {},
   "source": [
    "# 6.Explain the difference between the '==' operator and the 'is' operator in Python."
   ]
  },
  {
   "cell_type": "markdown",
   "id": "20e1e0e2",
   "metadata": {},
   "source": [
    "The '==' operator is used for value comparison, checking if two objects have The same values. The 'is' operator is used for identity comparison, checking if two variables reference the same object in memory."
   ]
  },
  {
   "cell_type": "markdown",
   "id": "32ecdb48",
   "metadata": {},
   "source": [
    "#7. What is operator precedence in Python, and how can it be modified?"
   ]
  },
  {
   "cell_type": "markdown",
   "id": "b0a287a2",
   "metadata": {},
   "source": [
    "Operator precedence determines the order in which operations are performed in an expression.The precedence of Arithmetic Operators in python is as follows:\n",
    "\n",
    "P – Parentheses\n",
    "E – Exponentiation\n",
    "M – Multiplication (Multiplication and division have the same precedence)\n",
    "D – Division\n",
    "A – Addition (Addition and subtraction have the same precedence)\n",
    "S – Subtraction. \n",
    "Parentheses can be used to modify the default precedence and force specific operations to be evaluated first."
   ]
  },
  {
   "cell_type": "markdown",
   "id": "451a31ec",
   "metadata": {},
   "source": [
    "#8. Create a Python program that checks if a given number is even or odd using the '%' operator."
   ]
  },
  {
   "cell_type": "code",
   "execution_count": 1,
   "id": "ebdc459f",
   "metadata": {},
   "outputs": [
    {
     "name": "stdout",
     "output_type": "stream",
     "text": [
      "Enter a number: 22\n",
      "22 is even\n"
     ]
    }
   ],
   "source": [
    "num = int(input(\"Enter a number: \"))\n",
    "if num % 2 == 0:\n",
    "    print(num, \"is even\")\n",
    "else:\n",
    "    print(num, \"is odd\")\n"
   ]
  },
  {
   "cell_type": "markdown",
   "id": "5373868e",
   "metadata": {},
   "source": [
    "# 9.What are conditional statements in Python, and what is their purpose?"
   ]
  },
  {
   "cell_type": "markdown",
   "id": "e30c78f2",
   "metadata": {},
   "source": [
    " Conditional statements in Python, such as if, elif, and else, allow you to control the flow of your program based on certain conditions. They help in making decisions and executing different code blocks depending on whether a condition is true or false."
   ]
  },
  {
   "cell_type": "markdown",
   "id": "83c57708",
   "metadata": {},
   "source": [
    "# 10. What is the difference between the if statement and the elif statement in Python?"
   ]
  },
  {
   "cell_type": "markdown",
   "id": "667eda3c",
   "metadata": {},
   "source": [
    "The if statement is used to test a single condition, while the elif (short for \"else if\") statement is used to test multiple conditions sequentially. elif is only executed if the preceding if or elif conditions are false."
   ]
  },
  {
   "cell_type": "markdown",
   "id": "915ba337",
   "metadata": {},
   "source": [
    "# 11.What is a nested conditional statement in Python, and why would you use it?"
   ]
  },
  {
   "cell_type": "markdown",
   "id": "c949f110",
   "metadata": {},
   "source": [
    " A nested conditional statement is a conditional statement inside another conditional statement. You would use it when you need to make more complex decisions or when certain conditions depend on other conditions."
   ]
  },
  {
   "cell_type": "markdown",
   "id": "32ac8a42",
   "metadata": {},
   "source": [
    "# 12.Write a Python program that uses both if and elif to determine the grade based on a given score (e.g., A for 90-100, B for 80-89, etc.)"
   ]
  },
  {
   "cell_type": "code",
   "execution_count": 5,
   "id": "22c227a1",
   "metadata": {},
   "outputs": [
    {
     "name": "stdout",
     "output_type": "stream",
     "text": [
      "Enter the score: 88\n",
      "The grade for the score 88 is B\n"
     ]
    }
   ],
   "source": [
    "# Get the score from the user\n",
    "score = int(input(\"Enter the score: \"))\n",
    "\n",
    "# Determine the grade based on the score\n",
    "if score >= 90 and score <= 100:\n",
    "    grade = 'A'\n",
    "elif score >= 80 and score < 90:\n",
    "    grade = 'B'\n",
    "elif score >= 70 and score < 80:\n",
    "    grade = 'C'\n",
    "elif score >= 60 and score < 70:\n",
    "    grade = 'D'\n",
    "elif score >= 0 and score < 60:\n",
    "    grade = 'F'\n",
    "else:\n",
    "    grade = 'Invalid input'\n",
    "\n",
    "# Display the grade\n",
    "print(f\"The grade for the score {score} is {grade}\")"
   ]
  },
  {
   "cell_type": "markdown",
   "id": "ccf14119",
   "metadata": {},
   "source": [
    "# 13. What are the primary types of loops in Python, and how do they differ?"
   ]
  },
  {
   "cell_type": "markdown",
   "id": "0d764351",
   "metadata": {},
   "source": [
    "Python has two primary types of loops: for and while loops.\n",
    "\n",
    "A for loop iterates over a sequence (e.g., a list, tuple, or string) and executes a block of code for each item in the sequence.\n",
    "A while loop continues to execute a block of code as long as a specified condition is True."
   ]
  },
  {
   "cell_type": "markdown",
   "id": "6af415dc",
   "metadata": {},
   "source": [
    "# 14.Explain the break and continue statements in Python loops."
   ]
  },
  {
   "cell_type": "markdown",
   "id": "aa184f9b",
   "metadata": {},
   "source": [
    "break is used to exit a loop prematurely when a certain condition is met. It breaks out of the loop entirely.\n",
    "continue is used to skip the current iteration of a loop and move to the next iteration."
   ]
  },
  {
   "cell_type": "markdown",
   "id": "34f7f8bc",
   "metadata": {},
   "source": [
    "# 15.Pattern printing program using for and while loop."
   ]
  },
  {
   "cell_type": "code",
   "execution_count": 19,
   "id": "c007ee88",
   "metadata": {},
   "outputs": [
    {
     "name": "stdout",
     "output_type": "stream",
     "text": [
      "*****\n",
      "****\n",
      "***\n",
      "**\n",
      "*\n",
      "*\n",
      "**\n",
      "***\n",
      "****\n",
      "*****\n"
     ]
    }
   ],
   "source": [
    "num_row=5\n",
    "for row in range(num_row,0,-1):\n",
    "    \n",
    "    print(\"*\"* row)\n",
    "    \n",
    "    \n",
    "n = 5\n",
    "for r in range(1, n + 1):\n",
    "    print(\"*\" * r)"
   ]
  },
  {
   "cell_type": "markdown",
   "id": "c65ca642",
   "metadata": {},
   "source": [
    "# 16. using break and continue statement."
   ]
  },
  {
   "cell_type": "code",
   "execution_count": 20,
   "id": "d1373892",
   "metadata": {},
   "outputs": [
    {
     "name": "stdout",
     "output_type": "stream",
     "text": [
      "1\n",
      "2\n",
      "1\n",
      "2\n",
      "4\n",
      "5\n"
     ]
    }
   ],
   "source": [
    "for i in range(1, 6):\n",
    "    if i == 3:\n",
    "        break\n",
    "    print(i)\n",
    "\n",
    "\n",
    "for i in range(1, 6):\n",
    "    if i == 3:\n",
    "        continue\n",
    "    print(i)\n"
   ]
  },
  {
   "cell_type": "markdown",
   "id": "e664ac44",
   "metadata": {},
   "source": [
    "# 17.What is a function in Python, and why is it important in programming?"
   ]
  },
  {
   "cell_type": "markdown",
   "id": "f4c6900c",
   "metadata": {},
   "source": [
    " A function in Python is a reusable block of code that performs a specific task. It helps in organizing code, making it more readable, and promotes code reusability, reducing redundancy.There are two types of functions in Python: built-in functions and user-defined functions. Built-in functions are functions that are already defined in the Python language, such as the print() function. User-defined functions are functions that are created by the user, and they can be created to do anything that the user wants them to do."
   ]
  },
  {
   "cell_type": "markdown",
   "id": "73b92af0",
   "metadata": {},
   "source": [
    "# 18.Explain the difference between a function definition and a function call in Python."
   ]
  },
  {
   "cell_type": "markdown",
   "id": "1fff0f69",
   "metadata": {},
   "source": [
    "A function definition is where you define the code block that performs a specific task, including its name, parameters, and body. A function call is when you invoke that function by using its name and passing the required arguments to execute the code within its body."
   ]
  },
  {
   "cell_type": "markdown",
   "id": "b7070c2e",
   "metadata": {},
   "source": [
    "# 19.Write a Python function to sum all the numbers in a list.\n",
    "Sample List : (8, 2, 3, 0, 7)\n",
    "\n",
    "Expected Output : 20"
   ]
  },
  {
   "cell_type": "code",
   "execution_count": 21,
   "id": "b0db7467",
   "metadata": {},
   "outputs": [
    {
     "name": "stdout",
     "output_type": "stream",
     "text": [
      "Sum of the numbers in the list: 20\n"
     ]
    }
   ],
   "source": [
    "#1st method\n",
    "def sum_list(numbers):\n",
    "    total = 0\n",
    "    for num in numbers:\n",
    "        total += num\n",
    "    return total\n",
    "\n",
    "sample_list = [8, 2, 3, 0, 7]\n",
    "\n",
    "result = sum_list(sample_list)\n",
    "print(\"Sum of the numbers in the list:\", result)"
   ]
  },
  {
   "cell_type": "markdown",
   "id": "c14155e1",
   "metadata": {},
   "source": [
    "# 20.What is the purpose of the return statement in a Python function?"
   ]
  },
  {
   "cell_type": "markdown",
   "id": "8d042353",
   "metadata": {},
   "source": [
    "The return statement is used to specify the value that a function should return when it's called. It allows a function to produce a result or data that can be used by the calling code."
   ]
  }
 ],
 "metadata": {
  "kernelspec": {
   "display_name": "Python 3 (ipykernel)",
   "language": "python",
   "name": "python3"
  },
  "language_info": {
   "codemirror_mode": {
    "name": "ipython",
    "version": 3
   },
   "file_extension": ".py",
   "mimetype": "text/x-python",
   "name": "python",
   "nbconvert_exporter": "python",
   "pygments_lexer": "ipython3",
   "version": "3.10.9"
  }
 },
 "nbformat": 4,
 "nbformat_minor": 5
}
